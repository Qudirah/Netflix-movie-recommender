{
 "cells": [
  {
   "cell_type": "code",
   "execution_count": 3,
   "metadata": {},
   "outputs": [],
   "source": [
    "import pandas as pd\n",
    "import numpy as np\n",
    "from sklearn.feature_extraction.text import TfidfVectorizer as tf_idf\n",
    "import re\n",
    "from nltk import word_tokenize, pos_tag\n",
    "from nltk.corpus import wordnet\n",
    "from nltk.stem.wordnet import WordNetLemmatizer\n",
    "from sklearn.metrics.pairwise import cosine_similarity\n",
    "import pickle"
   ]
  },
  {
   "cell_type": "code",
   "execution_count": 4,
   "metadata": {},
   "outputs": [],
   "source": [
    "movie = pd.read_excel('MOVIE.xlsx')\n"
   ]
  },
  {
   "cell_type": "code",
   "execution_count": 5,
   "metadata": {},
   "outputs": [],
   "source": [
    "genre = pd.read_excel('GENRE.xlsx')\n",
    "movie_genre = pd.read_excel('MOVIE_GENRE.xlsx')"
   ]
  },
  {
   "cell_type": "code",
   "execution_count": 6,
   "metadata": {},
   "outputs": [
    {
     "name": "stdout",
     "output_type": "stream",
     "text": [
      "<class 'pandas.core.frame.DataFrame'>\n",
      "RangeIndex: 19 entries, 0 to 18\n",
      "Data columns (total 3 columns):\n",
      " #   Column   Non-Null Count  Dtype \n",
      "---  ------   --------------  ----- \n",
      " 0   ID       19 non-null     int64 \n",
      " 1   GENREID  19 non-null     int64 \n",
      " 2   GENRE    19 non-null     object\n",
      "dtypes: int64(2), object(1)\n",
      "memory usage: 588.0+ bytes\n"
     ]
    }
   ],
   "source": [
    "genre.info()"
   ]
  },
  {
   "cell_type": "code",
   "execution_count": 7,
   "metadata": {},
   "outputs": [
    {
     "data": {
      "text/plain": [
       "Index(['FILMID', 'TITLE', 'BUDGET', 'ORIGINAL_LANGUAGE', 'ORIGINAL_TITLE',\n",
       "       'OVERVIEW', 'RELEASE_DATE', 'REVENUE', 'RUNTIME', 'VOTE_AVERAGE',\n",
       "       'VOTE_COUNT', 'STATUS_', 'TAGLINE'],\n",
       "      dtype='object')"
      ]
     },
     "execution_count": 7,
     "metadata": {},
     "output_type": "execute_result"
    }
   ],
   "source": [
    "movie.columns"
   ]
  },
  {
   "cell_type": "code",
   "execution_count": 8,
   "metadata": {},
   "outputs": [],
   "source": [
    "genre = genre.merge(movie_genre, on = 'GENREID', how = 'inner').drop(['ID_x', 'ID_y'], axis = 1)"
   ]
  },
  {
   "cell_type": "code",
   "execution_count": 9,
   "metadata": {},
   "outputs": [],
   "source": [
    "genre['GENRE'] = genre['GENRE'].apply(lambda x: x+ ' ')"
   ]
  },
  {
   "cell_type": "code",
   "execution_count": 10,
   "metadata": {},
   "outputs": [],
   "source": [
    "genre = genre.groupby('FILMID')[['GENRE']].sum().reset_index()"
   ]
  },
  {
   "cell_type": "code",
   "execution_count": 11,
   "metadata": {},
   "outputs": [],
   "source": [
    "movie = genre.merge(movie, on = 'FILMID', how = 'inner')"
   ]
  },
  {
   "cell_type": "code",
   "execution_count": 12,
   "metadata": {},
   "outputs": [
    {
     "name": "stdout",
     "output_type": "stream",
     "text": [
      "<class 'pandas.core.frame.DataFrame'>\n",
      "RangeIndex: 138932 entries, 0 to 138931\n",
      "Data columns (total 14 columns):\n",
      " #   Column             Non-Null Count   Dtype  \n",
      "---  ------             --------------   -----  \n",
      " 0   FILMID             138932 non-null  int64  \n",
      " 1   GENRE              138932 non-null  object \n",
      " 2   TITLE              138932 non-null  object \n",
      " 3   BUDGET             138932 non-null  int64  \n",
      " 4   ORIGINAL_LANGUAGE  138932 non-null  object \n",
      " 5   ORIGINAL_TITLE     138932 non-null  object \n",
      " 6   OVERVIEW           119344 non-null  object \n",
      " 7   RELEASE_DATE       138932 non-null  object \n",
      " 8   REVENUE            138932 non-null  int64  \n",
      " 9   RUNTIME            129399 non-null  float64\n",
      " 10  VOTE_AVERAGE       138932 non-null  float64\n",
      " 11  VOTE_COUNT         138932 non-null  int64  \n",
      " 12  STATUS_            138932 non-null  object \n",
      " 13  TAGLINE            37897 non-null   object \n",
      "dtypes: float64(2), int64(4), object(8)\n",
      "memory usage: 14.8+ MB\n"
     ]
    }
   ],
   "source": [
    "movie.info()"
   ]
  },
  {
   "cell_type": "code",
   "execution_count": 13,
   "metadata": {},
   "outputs": [
    {
     "data": {
      "text/plain": [
       "FILMID                    0\n",
       "GENRE                     0\n",
       "TITLE                     0\n",
       "BUDGET                    0\n",
       "ORIGINAL_LANGUAGE         0\n",
       "ORIGINAL_TITLE            0\n",
       "OVERVIEW              19588\n",
       "RELEASE_DATE              0\n",
       "REVENUE                   0\n",
       "RUNTIME                9533\n",
       "VOTE_AVERAGE              0\n",
       "VOTE_COUNT                0\n",
       "STATUS_                   0\n",
       "TAGLINE              101035\n",
       "dtype: int64"
      ]
     },
     "execution_count": 13,
     "metadata": {},
     "output_type": "execute_result"
    }
   ],
   "source": [
    "movie.isna().sum()"
   ]
  },
  {
   "cell_type": "code",
   "execution_count": 14,
   "metadata": {},
   "outputs": [],
   "source": [
    "movie = movie.iloc[movie['OVERVIEW'].dropna().index]"
   ]
  },
  {
   "cell_type": "code",
   "execution_count": 15,
   "metadata": {},
   "outputs": [],
   "source": [
    "movie = movie.fillna(' ')"
   ]
  },
  {
   "cell_type": "code",
   "execution_count": 16,
   "metadata": {},
   "outputs": [],
   "source": [
    "movie['RELEASE_DATE'] = pd.to_datetime(movie['RELEASE_DATE'], format='%Y-%m-%d')"
   ]
  },
  {
   "cell_type": "code",
   "execution_count": 17,
   "metadata": {},
   "outputs": [],
   "source": [
    "movie = movie.sort_values(by=['RELEASE_DATE'], ascending=False)"
   ]
  },
  {
   "cell_type": "code",
   "execution_count": null,
   "metadata": {},
   "outputs": [],
   "source": [
    "#replace unknown plot with empty string\n",
    "movie['OVERVIEW'] = movie['OVERVIEW'].apply(lambda x: x.lower().replace('plot unknown', '')).apply(lambda x: np.nan if x == '' else x)\n",
    "\n"
   ]
  },
  {
   "cell_type": "code",
   "execution_count": 19,
   "metadata": {},
   "outputs": [],
   "source": [
    "movie.dropna(inplace=True)"
   ]
  },
  {
   "cell_type": "code",
   "execution_count": 21,
   "metadata": {},
   "outputs": [],
   "source": [
    "movie['Tags'] = movie['GENRE'] + ' '  + movie['OVERVIEW'] + ' ' + movie['TAGLINE'] + ' ' + movie['TITLE']"
   ]
  },
  {
   "cell_type": "code",
   "execution_count": 22,
   "metadata": {},
   "outputs": [],
   "source": [
    "movie['Tags'] = movie['Tags'].str.lower()"
   ]
  },
  {
   "cell_type": "code",
   "execution_count": 23,
   "metadata": {},
   "outputs": [],
   "source": [
    "movie.reset_index(inplace=True)"
   ]
  },
  {
   "cell_type": "code",
   "execution_count": 26,
   "metadata": {},
   "outputs": [],
   "source": [
    "#work with first 10000 movies due to memory space\n",
    "movie = movie[:10000]"
   ]
  },
  {
   "cell_type": "code",
   "execution_count": 27,
   "metadata": {},
   "outputs": [],
   "source": [
    "def lemmatize_sentence(sentence):\n",
    "    lemmatizer = WordNetLemmatizer()\n",
    "    tokens = word_tokenize(sentence)\n",
    "    pos_tags = pos_tag(tokens)\n",
    "\n",
    "    def get_wordnet_pos(tag):\n",
    "        tag_dict = {\"J\": wordnet.ADJ,\n",
    "                    \"N\": wordnet.NOUN,\n",
    "                    \"V\": wordnet.VERB,\n",
    "                    \"R\": wordnet.ADV}\n",
    "        return tag_dict.get(tag[0].upper(), wordnet.NOUN)\n",
    "\n",
    "    return \" \".join([lemmatizer.lemmatize(word, get_wordnet_pos(pos)) for word, pos in pos_tags])\n"
   ]
  },
  {
   "cell_type": "code",
   "execution_count": 28,
   "metadata": {},
   "outputs": [],
   "source": [
    "movie['Tags_'] = movie['Tags'].apply(lemmatize_sentence) "
   ]
  },
  {
   "cell_type": "code",
   "execution_count": 29,
   "metadata": {},
   "outputs": [],
   "source": [
    "vectorizer = tf_idf(max_features=7000, stop_words='english', lowercase=True ) "
   ]
  },
  {
   "cell_type": "code",
   "execution_count": 30,
   "metadata": {},
   "outputs": [],
   "source": [
    "vectors = vectorizer.fit_transform(movie['Tags_']).toarray() "
   ]
  },
  {
   "cell_type": "code",
   "execution_count": 31,
   "metadata": {},
   "outputs": [
    {
     "data": {
      "text/plain": [
       "(10000, 7000)"
      ]
     },
     "execution_count": 31,
     "metadata": {},
     "output_type": "execute_result"
    }
   ],
   "source": [
    "vectors.shape"
   ]
  },
  {
   "cell_type": "code",
   "execution_count": 33,
   "metadata": {},
   "outputs": [],
   "source": [
    "similarity = cosine_similarity(vectors) "
   ]
  },
  {
   "cell_type": "code",
   "execution_count": 34,
   "metadata": {},
   "outputs": [
    {
     "data": {
      "text/plain": [
       "(10000, 10000)"
      ]
     },
     "execution_count": 34,
     "metadata": {},
     "output_type": "execute_result"
    }
   ],
   "source": [
    "similarity.shape"
   ]
  },
  {
   "cell_type": "code",
   "execution_count": null,
   "metadata": {},
   "outputs": [],
   "source": [
    "def recommendation(title, data): \n",
    "    try:\n",
    "        movie_index = data[data['TITLE'] == title].index[0] \n",
    "    except:\n",
    "        return \"Movie not currently in the database\"\n",
    "    distances = similarity[movie_index] \n",
    "    movies_list = sorted(list(enumerate(distances)),reverse=True,key=lambda x:x[1])[1:10]\n",
    "    for i in movies_list:\n",
    "        print(data.iloc[i[0]].TITLE) "
   ]
  },
  {
   "cell_type": "code",
   "execution_count": 40,
   "metadata": {},
   "outputs": [
    {
     "data": {
      "text/plain": [
       "array(['McClane', 'Machete Kills Again... in Space',\n",
       "       'Shazam! Fury of the Gods', 'Letters from Rosemary',\n",
       "       'Enzo Ferrari', 'Guardians of the Galaxy Vol. 3', 'Before Memory',\n",
       "       'National Treasure 3', 'Live Die Repeat and Repeat',\n",
       "       'Untitled The Adventures of Tintin Sequel', 'Avatar 2',\n",
       "       'Aquaman 2', 'The Flash', 'Halloween Ends', 'Seuss',\n",
       "       'Spider-Man: Into the Spider-Verse Sequel', 'Shrek 5',\n",
       "       'Indiana Jones 5', 'Captain Marvel 2', 'Jurassic World: Dominion',\n",
       "       'Legally Blonde 3', 'Black Panther II', 'Fast & Furious 10',\n",
       "       'Doctor Strange in the Multiverse of Madness',\n",
       "       'The Angry Birds Movie 3: Tropi-Collapse!', 'The Batman',\n",
       "       'Thor: Love and Thunder', 'The LEGO Batman Movie 2',\n",
       "       'Sesame Street', 'Scream 5', 'Shrunk', '콘크리트 유토피아',\n",
       "       'To All the Boys: Always and Forever, Lara Jean',\n",
       "       'Beverly Hills Cop 4', 'Untitled The Nun Sequel', 'Andorra',\n",
       "       'Ladybug & Cat Noir Awakening', 'Wanted 2', 'Matin Calme',\n",
       "       'Local Haunts', 'Marley', 'Boss Level', 'The Reckoning',\n",
       "       'Wrong Turn: The Foundation', '헤어질 결심',\n",
       "       'Kaamelott - Premier Volet', 'Radhe: Your Most Wanted Bhai',\n",
       "       'Чемпион мира', 'Laal Singh Chaddha', 'Последний богатырь 3',\n",
       "       'Wicked', 'The Matrix 4', 'Sing 2', 'The Nightingale',\n",
       "       'Sherlock Holmes 3', 'Toma', 'Небеса', 'Принц Растко српски',\n",
       "       'West Side Story', 'King Richard', 'Filthy Animals',\n",
       "       'Fantastic Beasts 3', 'Elvis', 'Eternals', 'Halloween Kills',\n",
       "       'The Last Duel', 'The Addams Family 2', 'Dune', 'Jackass 4',\n",
       "       '한산: 용의 출현', 'Candyman', 'The Beatles: Get Back',\n",
       "       \"The Hitman's Wife's Bodyguard\", 'Maidaan', \"Don't Breathe 2\",\n",
       "       'Deep Water', 'Hotel Transylvania 4', 'The Suicide Squad',\n",
       "       'Jungle Cruise', 'The Tomorrow War', 'Old', 'The Kissing Booth 3',\n",
       "       'Barb and Star Go to Vista Del Mar', 'Space Jam: A New Legacy',\n",
       "       'Uncharted', 'The Forever Purge',\n",
       "       'Shang-Chi and the Legend of the Ten Rings', 'Dragonkeeper',\n",
       "       'Top Gun: Maverick', \"Dragon's Lair\", 'Minions: The Rise of Gru',\n",
       "       'Venom: Let There Be Carnage', 'In The Heights', 'Night Walk',\n",
       "       'Garfield', 'Ghostbusters: Afterlife', 'Blazing Samurai',\n",
       "       'Project X-Traction', 'Vivo', 'Samaritan'], dtype=object)"
      ]
     },
     "execution_count": 40,
     "metadata": {},
     "output_type": "execute_result"
    }
   ],
   "source": [
    "movie['ORIGINAL_TITLE'][:100].values"
   ]
  },
  {
   "cell_type": "code",
   "execution_count": 37,
   "metadata": {},
   "outputs": [
    {
     "data": {
      "text/plain": [
       "'Movie not currently in the database'"
      ]
     },
     "execution_count": 37,
     "metadata": {},
     "output_type": "execute_result"
    }
   ],
   "source": [
    "recommendation(\"Tangled\", data = movie)"
   ]
  },
  {
   "cell_type": "code",
   "execution_count": 41,
   "metadata": {},
   "outputs": [
    {
     "name": "stdout",
     "output_type": "stream",
     "text": [
      "Spider-Man: Into the Spider-Verse\n",
      "Lego Spider-Man Series\n",
      "A Fan's Guide to Spider-Man: Homecoming\n",
      "RiffTrax Live: Giant Spider Invasion\n",
      "LEGO Marvel Spider-Man: Vexed By Venom\n",
      "Spider-Man: Homecoming\n",
      "Paper Spiders\n",
      "Spider in the Web\n",
      "Itsy Bitsy\n"
     ]
    }
   ],
   "source": [
    "recommendation(\"Spider-Man: Into the Spider-Verse Sequel\", data = movie)"
   ]
  },
  {
   "cell_type": "code",
   "execution_count": 42,
   "metadata": {},
   "outputs": [],
   "source": [
    "movie.to_csv('data.csv')"
   ]
  },
  {
   "cell_type": "code",
   "execution_count": 43,
   "metadata": {},
   "outputs": [],
   "source": [
    "pickle.dump(similarity,open('similarity.pkl','wb'))"
   ]
  }
 ],
 "metadata": {
  "kernelspec": {
   "display_name": "myenv",
   "language": "python",
   "name": "python3"
  },
  "language_info": {
   "codemirror_mode": {
    "name": "ipython",
    "version": 3
   },
   "file_extension": ".py",
   "mimetype": "text/x-python",
   "name": "python",
   "nbconvert_exporter": "python",
   "pygments_lexer": "ipython3",
   "version": "3.12.5"
  }
 },
 "nbformat": 4,
 "nbformat_minor": 2
}
